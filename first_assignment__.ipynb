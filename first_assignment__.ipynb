{
 "cells": [
  {
   "cell_type": "code",
   "execution_count": null,
   "id": "8a226ec2-59f7-45cf-92bb-436939f7df02",
   "metadata": {},
   "outputs": [],
   "source": [
    "# 1. Explain the key feature of Python that make it a popular choice fo$ programming."
   ]
  },
  {
   "cell_type": "code",
   "execution_count": null,
   "id": "f65d09da-76a8-46ae-be91-ff0e0d93cd28",
   "metadata": {},
   "outputs": [],
   "source": [
    "\n",
    "# it is simple and readable.\n",
    "# Large standard library\n",
    "# dynamical typed\n",
    "# interpreted language\n",
    "# free and open source library"
   ]
  },
  {
   "cell_type": "raw",
   "id": "8feb8ca1-8312-4dba-b643-7e1a622bcde0",
   "metadata": {},
   "source": [
    "# 2.Describe the role of predefined keywords in python and provide example of how they are used in program.\n",
    "\n",
    "  the word use for defining a function is called as keyword. They provide a important role in python like printing the thing \n",
    "or taking a input.\n",
    "\n",
    "Some examples are: Print (\"Hello world\")\n",
    "                  name = input (\"what is your name\")\n",
    "                  \n"
   ]
  },
  {
   "cell_type": "code",
   "execution_count": null,
   "id": "9dd23c53-04ad-4176-b819-b6dfef1e07b8",
   "metadata": {},
   "outputs": [],
   "source": [
    "# 3. Compare and contrast mutable and immutable objects in python with examples.\n",
    "\n",
    "# objects whose state or value can change after they are created called mutable objects. ex list, dictionary and set\n",
    "\n",
    "# objects whose state or value can not  change after they are created called immutable objects. ex strings, tuples and numbers"
   ]
  },
  {
   "cell_type": "code",
   "execution_count": 35,
   "id": "d1bf49b8-4c78-4f7b-ac57-0db1f4630717",
   "metadata": {},
   "outputs": [
    {
     "data": {
      "text/plain": [
       "11"
      ]
     },
     "execution_count": 35,
     "metadata": {},
     "output_type": "execute_result"
    }
   ],
   "source": [
    "# 4. Discuss the different types of operators in Python and provide examples of how they are used.\n",
    "\n",
    "# arithmetic operator\n",
    " # we use(+, -, *, /, **, )\n",
    "a = 5\n",
    "b = 6\n",
    "a + b\n",
    "    "
   ]
  },
  {
   "cell_type": "code",
   "execution_count": 36,
   "id": "43b0bce9-7e26-4d89-8dda-68cc821df036",
   "metadata": {},
   "outputs": [
    {
     "data": {
      "text/plain": [
       "-1"
      ]
     },
     "execution_count": 36,
     "metadata": {},
     "output_type": "execute_result"
    }
   ],
   "source": [
    "a -b "
   ]
  },
  {
   "cell_type": "code",
   "execution_count": 37,
   "id": "9e2bf743-ff9d-4dac-a948-a114519253dd",
   "metadata": {},
   "outputs": [
    {
     "data": {
      "text/plain": [
       "15625"
      ]
     },
     "execution_count": 37,
     "metadata": {},
     "output_type": "execute_result"
    }
   ],
   "source": [
    "a**b"
   ]
  },
  {
   "cell_type": "markdown",
   "id": "92f8deda-33fb-4c70-9972-7e7516c03117",
   "metadata": {},
   "source": [
    "#comparison operator\n"
   ]
  },
  {
   "cell_type": "code",
   "execution_count": 39,
   "id": "849a253f-0a54-44ff-9376-bcf59478dcf4",
   "metadata": {},
   "outputs": [
    {
     "data": {
      "text/plain": [
       "1"
      ]
     },
     "execution_count": 39,
     "metadata": {},
     "output_type": "execute_result"
    }
   ],
   "source": [
    "#floor operator>>gives nearest operator\n",
    "4//3"
   ]
  },
  {
   "cell_type": "code",
   "execution_count": 41,
   "id": "366b3eae-49bc-45e9-9fe3-2cf9c0b6e7dc",
   "metadata": {},
   "outputs": [
    {
     "data": {
      "text/plain": [
       "False"
      ]
     },
     "execution_count": 41,
     "metadata": {},
     "output_type": "execute_result"
    }
   ],
   "source": [
    "#not equals to (!=)\n",
    "2!=2\n"
   ]
  },
  {
   "cell_type": "code",
   "execution_count": null,
   "id": "a670a511-77ca-409a-a51e-8bf0b29feaaa",
   "metadata": {},
   "outputs": [],
   "source": [
    "#we have more operator like <,>=,<=,"
   ]
  },
  {
   "cell_type": "code",
   "execution_count": 43,
   "id": "f6fe27f0-dea3-463d-9294-414fdd8c5150",
   "metadata": {},
   "outputs": [
    {
     "data": {
      "text/plain": [
       "10"
      ]
     },
     "execution_count": 43,
     "metadata": {},
     "output_type": "execute_result"
    }
   ],
   "source": [
    "#assignment operator\n",
    "a =10\n",
    "a"
   ]
  },
  {
   "cell_type": "code",
   "execution_count": 44,
   "id": "ff6a1df6-9556-45b5-97f2-9ae86ea29852",
   "metadata": {},
   "outputs": [
    {
     "data": {
      "text/plain": [
       "20"
      ]
     },
     "execution_count": 44,
     "metadata": {},
     "output_type": "execute_result"
    }
   ],
   "source": [
    "a= a+10\n",
    "a"
   ]
  },
  {
   "cell_type": "code",
   "execution_count": 45,
   "id": "31c64444-3860-46e1-9cf3-1f521ffc46a3",
   "metadata": {},
   "outputs": [
    {
     "data": {
      "text/plain": [
       "25"
      ]
     },
     "execution_count": 45,
     "metadata": {},
     "output_type": "execute_result"
    }
   ],
   "source": [
    "a+= 5\n",
    "a"
   ]
  },
  {
   "cell_type": "code",
   "execution_count": 46,
   "id": "c3ad0802-7ba0-4a42-a63a-34cf731fb571",
   "metadata": {},
   "outputs": [
    {
     "data": {
      "text/plain": [
       "True"
      ]
     },
     "execution_count": 46,
     "metadata": {},
     "output_type": "execute_result"
    }
   ],
   "source": [
    "#membership operator(in and not in)\n",
    "a = \"pwskills\"\n",
    "\"p\" in a"
   ]
  },
  {
   "cell_type": "code",
   "execution_count": 48,
   "id": "c947c3e9-2bc8-4a17-825c-a6b6c94cfad7",
   "metadata": {},
   "outputs": [
    {
     "data": {
      "text/plain": [
       "True"
      ]
     },
     "execution_count": 48,
     "metadata": {},
     "output_type": "execute_result"
    }
   ],
   "source": [
    "\"data\" not in \"pwskills\""
   ]
  },
  {
   "cell_type": "code",
   "execution_count": 49,
   "id": "c880acfc-58b0-4480-8a0a-9aeb843ea6da",
   "metadata": {},
   "outputs": [
    {
     "data": {
      "text/plain": [
       "False"
      ]
     },
     "execution_count": 49,
     "metadata": {},
     "output_type": "execute_result"
    }
   ],
   "source": [
    "#identity operator\n",
    "a = 2 \n",
    "b = 3 \n",
    "a is b"
   ]
  },
  {
   "cell_type": "code",
   "execution_count": 50,
   "id": "d045e8cb-0f9a-4663-9002-b37984f94071",
   "metadata": {},
   "outputs": [
    {
     "data": {
      "text/plain": [
       "False"
      ]
     },
     "execution_count": 50,
     "metadata": {},
     "output_type": "execute_result"
    }
   ],
   "source": [
    "b is a"
   ]
  },
  {
   "cell_type": "code",
   "execution_count": 51,
   "id": "fb9bf83c-bf24-497c-970f-f1282d11df11",
   "metadata": {},
   "outputs": [
    {
     "data": {
      "text/plain": [
       "10"
      ]
     },
     "execution_count": 51,
     "metadata": {},
     "output_type": "execute_result"
    }
   ],
   "source": [
    "#bitwise operator\n",
    "10 & 10"
   ]
  },
  {
   "cell_type": "code",
   "execution_count": 52,
   "id": "bb42b4d7-dd17-4305-b207-cb2b6051dcd9",
   "metadata": {},
   "outputs": [
    {
     "data": {
      "text/plain": [
       "2"
      ]
     },
     "execution_count": 52,
     "metadata": {},
     "output_type": "execute_result"
    }
   ],
   "source": [
    "18 & 3\n"
   ]
  },
  {
   "cell_type": "code",
   "execution_count": 53,
   "id": "43861e87-0623-4d3a-ba09-05c982ceeb14",
   "metadata": {},
   "outputs": [
    {
     "data": {
      "text/plain": [
       "7"
      ]
     },
     "execution_count": 53,
     "metadata": {},
     "output_type": "execute_result"
    }
   ],
   "source": [
    "3|5"
   ]
  },
  {
   "cell_type": "code",
   "execution_count": 54,
   "id": "e7fe21db-fa8a-4de2-958b-1b43a83ca042",
   "metadata": {},
   "outputs": [
    {
     "data": {
      "text/plain": [
       "-4"
      ]
     },
     "execution_count": 54,
     "metadata": {},
     "output_type": "execute_result"
    }
   ],
   "source": [
    "#negotiations\n",
    "~3"
   ]
  },
  {
   "cell_type": "code",
   "execution_count": 55,
   "id": "5fbc6dd5-8881-4d83-aadb-c761ae6c2d13",
   "metadata": {},
   "outputs": [
    {
     "data": {
      "text/plain": [
       "-146"
      ]
     },
     "execution_count": 55,
     "metadata": {},
     "output_type": "execute_result"
    }
   ],
   "source": [
    "~145"
   ]
  },
  {
   "cell_type": "code",
   "execution_count": 56,
   "id": "dfd70aee-bc6a-4063-addd-7eebf0d11648",
   "metadata": {},
   "outputs": [
    {
     "data": {
      "text/plain": [
       "280"
      ]
     },
     "execution_count": 56,
     "metadata": {},
     "output_type": "execute_result"
    }
   ],
   "source": [
    "#shift>>left shift and right shift\n",
    "35<<3"
   ]
  },
  {
   "cell_type": "code",
   "execution_count": 57,
   "id": "9a5cff7c-ac7f-456a-a157-444c48f5d56c",
   "metadata": {},
   "outputs": [
    {
     "data": {
      "text/plain": [
       "35"
      ]
     },
     "execution_count": 57,
     "metadata": {},
     "output_type": "execute_result"
    }
   ],
   "source": [
    "#right shift\n",
    "280>>3"
   ]
  },
  {
   "cell_type": "code",
   "execution_count": 63,
   "id": "b74ee3e9-4369-4103-9673-11cdfc40978f",
   "metadata": {},
   "outputs": [
    {
     "data": {
      "text/plain": [
       "22"
      ]
     },
     "execution_count": 63,
     "metadata": {},
     "output_type": "execute_result"
    }
   ],
   "source": [
    " #5. Explain the concept of type casting in Python with examples.\n",
    "\n",
    " # There are two type of type casting\n",
    "# implicit\n",
    "# explicit\n",
    "\n",
    "# implicit: to know the type of variable\n",
    " x = 2\n",
    " type (2)\n",
    "     \n",
    " #Explicit: convert data in inbuilt function \n",
    " \n",
    " x = 22.5\n",
    " y = int (22.5)\n",
    " type(y)\n",
    " int\n",
    " y\n",
    " 22"
   ]
  },
  {
   "cell_type": "code",
   "execution_count": 7,
   "id": "a13825ff-0aba-44da-b695-e7d73d596806",
   "metadata": {},
   "outputs": [
    {
     "name": "stdout",
     "output_type": "stream",
     "text": [
      "grade d\n"
     ]
    }
   ],
   "source": [
    "# 6. How do conditional statements work in Python? Illustrate with examples.\n",
    "    \n",
    "score =50 \n",
    "if score >= 90:\n",
    "    print(\"grade a\")\n",
    "elif (80 <=score <90):\n",
    "    print(\" grade b\")\n",
    "elif ( 70<= score <80):  \n",
    "    print (\"grade c\")\n",
    "else:\n",
    "    print (\"grade d\")\n",
    "    \n",
    "    "
   ]
  },
  {
   "cell_type": "code",
   "execution_count": 64,
   "id": "6e2d7574-2bb9-492f-b47d-f08fb320686a",
   "metadata": {},
   "outputs": [],
   "source": [
    "#make a survey age classifier\n",
    "#age greater 70 and if no dese you are a good budha\n",
    "#if age btw 50 to 70 and more than 10000000 moneyyou are retierd\n",
    "#if age btw 50 to 70 and money is btw 1cr and 50 lakh >> you are working buddha\n",
    "##if age btw 50 to 70 and money is less than 50 lakhs>>you have just started your career\n",
    "#if age less then 50 and greater then 20 and marries and child and job >>you are uoung\n",
    "#if age is less 20 and no job you are berojgar\n",
    "\n",
    "age = 19\n",
    "disease=False\n",
    "money = 100000001\n",
    "married = True\n",
    "has_child = True\n",
    "has_job = True\n",
    "if age >70:\n",
    "    if not disease:\n",
    "        print (\"you are a good budha\")\n",
    "elif 50 <= age <=70:\n",
    "    if money > 100000000:\n",
    "         print(\"you are retierd\")\n",
    "    elif 5000000<=money<=10000000:\n",
    "            print(\"you are working budha\")\n",
    "    else:\n",
    "         print(\"you have just started your career\")\n",
    "elif 20<age <50:\n",
    "    if married and has_child and has_job:\n",
    "        print(\"you are young\")\n",
    "elif age < 20:\n",
    "    if not has_job:\n",
    "          print(\"you are berojgaar\")\n",
    "else:\n",
    "      print(\"no sprcific clasification\")"
   ]
  },
  {
   "cell_type": "code",
   "execution_count": 14,
   "id": "055f4709-16d5-4e61-bd88-49d0d152bed1",
   "metadata": {},
   "outputs": [
    {
     "name": "stdout",
     "output_type": "stream",
     "text": [
      "95\n",
      "98\n",
      "97\n"
     ]
    }
   ],
   "source": [
    "# 7. Describe the different types of loops in Python and their use cases with examples.\n",
    "\n",
    "#For loop in list \n",
    "marks = [95, 98,97]\n",
    "for score in marks:\n",
    "    print (score)\n",
    "\n"
   ]
  },
  {
   "cell_type": "code",
   "execution_count": 15,
   "id": "112cd721-9cf6-400c-8c6a-6bd211476c88",
   "metadata": {},
   "outputs": [
    {
     "name": "stdout",
     "output_type": "stream",
     "text": [
      "1\n",
      "2\n",
      "3\n",
      "4\n",
      "5\n"
     ]
    }
   ],
   "source": [
    "# while loop\n",
    "i = 1 \n",
    "while i <=5:\n",
    "    print(i)\n",
    "    i = i+ 1"
   ]
  },
  {
   "cell_type": "code",
   "execution_count": 19,
   "id": "bbbd7cf9-76ee-4fda-87da-779b16ee77ae",
   "metadata": {},
   "outputs": [
    {
     "name": "stdout",
     "output_type": "stream",
     "text": [
      "#\n",
      "##\n",
      "###\n",
      "####\n",
      "#####\n",
      "######\n",
      "#######\n",
      "########\n",
      "#########\n",
      "##########\n"
     ]
    }
   ],
   "source": [
    "# for printing the pattern\n",
    " \n",
    "i = 1 \n",
    "while i <=10:\n",
    "    print(i * \"#\")\n",
    "    i = i+1"
   ]
  },
  {
   "cell_type": "code",
   "execution_count": 21,
   "id": "ecb17bb6-eba2-4106-aa1e-e0a8c70f3d32",
   "metadata": {},
   "outputs": [
    {
     "name": "stdout",
     "output_type": "stream",
     "text": [
      "#####\n",
      "####\n",
      "###\n",
      "##\n",
      "#\n",
      "\n"
     ]
    }
   ],
   "source": [
    "# for printing opposite pattern\n",
    " \n",
    "i = 5\n",
    "while i >=0:\n",
    "    print(i * \"#\")\n",
    "    i = i-1"
   ]
  },
  {
   "cell_type": "code",
   "execution_count": 32,
   "id": "01cdc8ce-727d-4653-b279-de1375174f28",
   "metadata": {},
   "outputs": [
    {
     "name": "stdout",
     "output_type": "stream",
     "text": [
      "range(0, 5)\n"
     ]
    }
   ],
   "source": [
    "#range\n",
    "numbers = range(5)\n",
    "print(numbers)"
   ]
  },
  {
   "cell_type": "code",
   "execution_count": 33,
   "id": "648f867c-0486-4b34-8618-7ef882fbc74d",
   "metadata": {},
   "outputs": [
    {
     "data": {
      "text/plain": [
       "range(0, 5)"
      ]
     },
     "execution_count": 33,
     "metadata": {},
     "output_type": "execute_result"
    }
   ],
   "source": [
    "range(5)"
   ]
  }
 ],
 "metadata": {
  "kernelspec": {
   "display_name": "Python 3 (ipykernel)",
   "language": "python",
   "name": "python3"
  },
  "language_info": {
   "codemirror_mode": {
    "name": "ipython",
    "version": 3
   },
   "file_extension": ".py",
   "mimetype": "text/x-python",
   "name": "python",
   "nbconvert_exporter": "python",
   "pygments_lexer": "ipython3",
   "version": "3.10.8"
  }
 },
 "nbformat": 4,
 "nbformat_minor": 5
}
